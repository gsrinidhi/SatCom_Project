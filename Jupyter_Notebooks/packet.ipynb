{
 "cells": [
  {
   "cell_type": "markdown",
   "id": "832b1cc7",
   "metadata": {},
   "source": [
    "# Packetization"
   ]
  },
  {
   "cell_type": "markdown",
   "id": "346e3326",
   "metadata": {},
   "source": [
    "input from BCH coding has length 64.\n",
    "so overall we need to add start sequence of 16 bits and tail sequence of 64 bits"
   ]
  },
  {
   "cell_type": "code",
   "execution_count": 30,
   "id": "f3b28ada",
   "metadata": {},
   "outputs": [
    {
     "name": "stdout",
     "output_type": "stream",
     "text": [
      "Array head has 16 columns.\n",
      "Array tail has 64 columns.\n",
      "Array bch has 64 columns.\n"
     ]
    }
   ],
   "source": [
    "import numpy as np\n",
    "\n",
    "head = np.array([1,1,1,0,1,0,1,1,1,0,0,1,0,0,0,0])\n",
    "tail = np.array([1,1,0,0,0,1,0,1, 1,1,0,0,0,1,0,1, 1,1,0,0,0,1,0,1, 1,1,0,0,0,1,0,1,\n",
    "                1,1,0,0,0,1,0,1, 1,1,0,0,0,1,0,1, 1,1,0,0,0,1,0,1, 0,1,1,1,1,0,0,1])\n",
    "bch = np.array([1,0,1,0,1,0,1,0,1,0,1,0,1,0,1,0,1,0,1,0,1,0,1,0,1,0,1,0,1,0,1,0,1,0,\n",
    "               1,0,1,0,1,0,1,0,1,0,1,0,1,0,1,0,1,0,1,0,1,0,1,0,1,0,1,0,1,0])\n",
    "\n",
    "print(\"Array head has\",head.shape[0],\"columns.\")\n",
    "print(\"Array tail has\",tail.shape[0],\"columns.\")\n",
    "print(\"Array bch has\",bch.shape[0],\"columns.\")"
   ]
  },
  {
   "cell_type": "code",
   "execution_count": 31,
   "id": "fa4d80f1",
   "metadata": {},
   "outputs": [
    {
     "name": "stdout",
     "output_type": "stream",
     "text": [
      "Array packet has 144 columns.\n",
      "\n",
      "Result after appending x and y:  [1 1 1 0 1 0 1 1 1 0 0 1 0 0 0 0 1 0 1 0 1 0 1 0 1 0 1 0 1 0 1 0 1 0 1 0 1\n",
      " 0 1 0 1 0 1 0 1 0 1 0 1 0 1 0 1 0 1 0 1 0 1 0 1 0 1 0 1 0 1 0 1 0 1 0 1 0\n",
      " 1 0 1 0 1 0 1 1 0 0 0 1 0 1 1 1 0 0 0 1 0 1 1 1 0 0 0 1 0 1 1 1 0 0 0 1 0\n",
      " 1 1 1 0 0 0 1 0 1 1 1 0 0 0 1 0 1 1 1 0 0 0 1 0 1 0 1 1 1 1 0 0 1]\n"
     ]
    }
   ],
   "source": [
    "packet1 = np.append(head,bch)\n",
    "packet2 = np.append(packet1,tail)\n",
    "print(\"Array packet has\",packet2.shape[0],\"columns.\")\n",
    "print(\"\\nResult after appending x and y: \", packet2)"
   ]
  },
  {
   "cell_type": "code",
   "execution_count": 32,
   "id": "7811a463",
   "metadata": {},
   "outputs": [
    {
     "name": "stdout",
     "output_type": "stream",
     "text": [
      "[1 1 1 0 1 0 1 1 1 0 0 1 0 0 0 0 1 0 1 0 1 0 1 0 1 0 1 0 1 0 1 0 1 0 1 0 1\n",
      " 0 1 0 1 0 1 0 1 0 1 0 1 0 1 0 1 0 1 0 1 0 1 0 1 0 1 0 1 0 1 0 1 0 1 0 1 0\n",
      " 1 0 1 0 1 0 1 1 0 0 0 1 0 1 1 1 0 0 0 1 0 1 1 1 0 0 0 1 0 1 1 1 0 0 0 1 0\n",
      " 1 1 1 0 0 0 1 0 1 1 1 0 0 0 1 0 1 1 1 0 0 0 1 0 1 0 1 1 1 1 0 0 1]\n"
     ]
    }
   ],
   "source": [
    "def packeting(bch):\n",
    "    head = np.array([1,1,1,0,1,0,1,1,1,0,0,1,0,0,0,0])\n",
    "    tail = np.array([1,1,0,0,0,1,0,1, 1,1,0,0,0,1,0,1, 1,1,0,0,0,1,0,1, 1,1,0,0,0,1,0,1,\n",
    "                    1,1,0,0,0,1,0,1, 1,1,0,0,0,1,0,1, 1,1,0,0,0,1,0,1, 0,1,1,1,1,0,0,1])\n",
    "    packet1 = np.append(head,bch)\n",
    "    packet2 = np.append(packet1,tail)\n",
    "    return packet2\n",
    "\n",
    "#bch = np.array([1,1,1,1])\n",
    "packet = packeting(bch)\n",
    "print((packet))\n"
   ]
  },
  {
   "cell_type": "code",
   "execution_count": 34,
   "id": "7b3a9873",
   "metadata": {},
   "outputs": [
    {
     "name": "stdout",
     "output_type": "stream",
     "text": [
      "[1 0 1 0 1 0 1 0 1 0 1 0 1 0 1 0 1 0 1 0 1 0 1 0 1 0 1 0 1 0 1 0 1 0 1 0 1\n",
      " 0 1 0 1 0 1 0 1 0 1 0 1 0 1 0 1 0 1 0 1 0 1 0 1 0 1 0]\n",
      "Array rec has 64 columns.\n"
     ]
    }
   ],
   "source": [
    "def depacket(packet):\n",
    "    out = packet[16:80]\n",
    "\n",
    "    return out\n",
    "rec = depacket(packet)\n",
    "print(rec)\n",
    "print(\"Array rec has\",rec.shape[0],\"columns.\")"
   ]
  },
  {
   "cell_type": "code",
   "execution_count": null,
   "id": "5002ba0f",
   "metadata": {},
   "outputs": [],
   "source": []
  },
  {
   "cell_type": "code",
   "execution_count": null,
   "id": "a7e11bb5",
   "metadata": {},
   "outputs": [],
   "source": []
  }
 ],
 "metadata": {
  "kernelspec": {
   "display_name": "Python 3 (ipykernel)",
   "language": "python",
   "name": "python3"
  },
  "language_info": {
   "codemirror_mode": {
    "name": "ipython",
    "version": 3
   },
   "file_extension": ".py",
   "mimetype": "text/x-python",
   "name": "python",
   "nbconvert_exporter": "python",
   "pygments_lexer": "ipython3",
   "version": "3.9.12"
  }
 },
 "nbformat": 4,
 "nbformat_minor": 5
}
