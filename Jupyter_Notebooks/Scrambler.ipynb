{
  "cells": [
    {
      "cell_type": "code",
      "execution_count": 1,
      "id": "7bce9c83",
      "metadata": {
        "id": "7bce9c83"
      },
      "outputs": [],
      "source": [
        "import numpy as np"
      ]
    },
    {
      "cell_type": "code",
      "execution_count": 2,
      "id": "ecf00355",
      "metadata": {
        "colab": {
          "base_uri": "https://localhost:8080/"
        },
        "id": "ecf00355",
        "outputId": "614b92e3-70ac-45db-9ba9-ef3c06e56de4"
      },
      "outputs": [
        {
          "name": "stdout",
          "output_type": "stream",
          "text": [
            "[1 1 1 1 1 1 1 0 0]\n"
          ]
        },
        {
          "data": {
            "text/plain": [
              "array([0, 1, 1, 1, 1, 1, 1, 1, 0], dtype=uint8)"
            ]
          },
          "execution_count": 2,
          "metadata": {},
          "output_type": "execute_result"
        }
      ],
      "source": [
        "g = np.empty(9,dtype=np.uint8)\n",
        "g[0:7] = 1\n",
        "print(g)\n",
        "k = g[0:7]\n",
        "g[1:8] = k\n",
        "g[0] = 0\n",
        "g"
      ]
    },
    {
      "cell_type": "code",
      "execution_count": 3,
      "id": "83b7664d",
      "metadata": {
        "id": "83b7664d"
      },
      "outputs": [],
      "source": [
        "def shift(g):\n",
        "    k = np.array(g,dtype=np.uint8)\n",
        "    k[0] = g[1]\n",
        "    k[1] = g[2]\n",
        "    k[2] = g[3]\n",
        "    k[3] = g[4]\n",
        "    k[4] = g[5]\n",
        "    k[5] = g[6]\n",
        "    k[6] = g[7]\n",
        "    k[7] = g[8]\n",
        "    return k"
      ]
    },
    {
      "cell_type": "code",
      "execution_count": 4,
      "id": "13b4ae7e",
      "metadata": {
        "id": "13b4ae7e"
      },
      "outputs": [],
      "source": [
        "def scrambler(seed,inputbits):\n",
        "    g = np.empty(9,dtype=np.uint8)\n",
        "    ipbits = np.array(inputbits,dtype=np.uint8)\n",
        "    output = np.empty(len(inputbits),dtype=np.uint8)\n",
        "    G = np.empty(len(inputbits),dtype=np.uint8)\n",
        "    g[0:8] = seed\n",
        "    for i in range(len(inputbits)):\n",
        "        A = g[0] ^ g[1]\n",
        "        B = A ^ g[2]\n",
        "        C = B ^ g[3]\n",
        "        D = C ^ g[4]\n",
        "        g[8] = D ^ g[6]\n",
        "        output[i] = g[0] ^ ipbits[i]\n",
        "        G[i] = g[0]\n",
        "        g[0:8] = g[1:9]\n",
        "    return output,G  "
      ]
    },
    {
      "cell_type": "code",
      "execution_count": 5,
      "id": "255f7777",
      "metadata": {
        "colab": {
          "base_uri": "https://localhost:8080/"
        },
        "id": "255f7777",
        "outputId": "b9d2e9bb-37e9-4208-9d3c-b376ce86a11a"
      },
      "outputs": [
        {
          "name": "stdout",
          "output_type": "stream",
          "text": [
            "[1 1 1 0 0 0 1 0 1 0 1 1 1 0]\n"
          ]
        }
      ],
      "source": [
        "g = [1,1,1,1,1,1,1,1]\n",
        "g = np.array(g)\n",
        "k,G = scrambler(g,[1,1,1,0,0,0,1,0,1,0,1,1,1,0])\n",
        "ip,G = scrambler(g,k)\n",
        "print(ip)"
      ]
    },
    {
      "cell_type": "code",
      "execution_count": 6,
      "id": "1ded2d22",
      "metadata": {
        "colab": {
          "base_uri": "https://localhost:8080/"
        },
        "id": "1ded2d22",
        "outputId": "ce562264-327a-435f-f4c7-dcc44f221d12"
      },
      "outputs": [
        {
          "data": {
            "text/plain": [
              "array([0, 0, 0, 1, 1, 1, 0, 1, 1, 0, 0, 0, 0, 0], dtype=uint8)"
            ]
          },
          "execution_count": 6,
          "metadata": {},
          "output_type": "execute_result"
        }
      ],
      "source": [
        "k"
      ]
    },
    {
      "cell_type": "code",
      "execution_count": 7,
      "id": "46f242a8",
      "metadata": {
        "colab": {
          "base_uri": "https://localhost:8080/"
        },
        "id": "46f242a8",
        "outputId": "31e32a76-ca73-4179-e72e-ad87cc4df2f2"
      },
      "outputs": [
        {
          "data": {
            "text/plain": [
              "array([1, 1, 1, 1, 1, 1, 1, 1, 0, 0, 1, 1, 1, 0], dtype=uint8)"
            ]
          },
          "execution_count": 7,
          "metadata": {},
          "output_type": "execute_result"
        }
      ],
      "source": [
        "G"
      ]
    },
    {
      "cell_type": "code",
      "execution_count": 8,
      "id": "8cf950b3",
      "metadata": {
        "colab": {
          "base_uri": "https://localhost:8080/"
        },
        "id": "8cf950b3",
        "outputId": "d02c5767-80cb-4287-9925-babe3785738f",
        "scrolled": true
      },
      "outputs": [
        {
          "name": "stdout",
          "output_type": "stream",
          "text": [
            "[2 3 4 5 6 7 8 9 9]\n"
          ]
        }
      ],
      "source": [
        "l = [1,2,3,4,5,6,7,8,9]\n",
        "g = np.array(l)\n",
        "print(shift(g))"
      ]
    },
    {
      "cell_type": "code",
      "execution_count": 9,
      "id": "c05a7fab",
      "metadata": {
        "colab": {
          "base_uri": "https://localhost:8080/"
        },
        "id": "c05a7fab",
        "outputId": "aec77972-fb16-4b07-a101-07a51f7e260c"
      },
      "outputs": [
        {
          "name": "stdout",
          "output_type": "stream",
          "text": [
            "[1 1 2 3 4 5 6 7]\n"
          ]
        }
      ],
      "source": [
        "g = [1,2,3,4,5,6,7,8]\n",
        "g = np.array(g)\n",
        "g[1:8] = g[0:7]\n",
        "print(g)"
      ]
    },
    {
      "cell_type": "code",
      "execution_count": 10,
      "id": "1dfdf110",
      "metadata": {
        "id": "1dfdf110"
      },
      "outputs": [],
      "source": [
        "class Scrambler:\n",
        "    def __init__(self,seed,poly):\n",
        "        self.seed = np.array(seed,dtype=np.uint8)\n",
        "        self.poly = np.array(poly,dtype=np.uint8)\n",
        "        self.g = np.empty(9,dtype=np.uint8)\n",
        "        self.g[0:8] = self.seed\n",
        "        self.x = np.empty\n",
        "    \n",
        "    def scramble(inputbit):\n",
        "        pass"
      ]
    },
    {
      "cell_type": "code",
      "execution_count": 11,
      "id": "PFr31gSxEfkG",
      "metadata": {
        "colab": {
          "base_uri": "https://localhost:8080/"
        },
        "id": "PFr31gSxEfkG",
        "outputId": "ba726213-282b-41f4-a2ad-c9b44c75554f"
      },
      "outputs": [
        {
          "name": "stdout",
          "output_type": "stream",
          "text": [
            "Dividend:\n",
            "   7\n",
            "1 x + 1\n",
            "Divisor:\n",
            "   4     3     2\n",
            "1 x + 1 x + 1 x + 1\n",
            "[1. 1. 0. 1.]\n"
          ]
        }
      ],
      "source": [
        "# Testing modulo-2 operations with numpy polynomials\n",
        "dividend = np.poly1d([1, 0, 0, 0, 0, 0, 0, 1])\n",
        "print(\"Dividend:\")\n",
        "print(dividend)\n",
        "\n",
        "divisor = np.poly1d([1, 1, 1, 0, 1])\n",
        "print(\"Divisor:\")\n",
        "print(divisor)\n",
        "\n",
        "quotient = np.mod(np.polydiv(dividend, divisor)[0], 2)\n",
        "print(quotient)"
      ]
    },
    {
      "cell_type": "markdown",
      "id": "0fd3ae59",
      "metadata": {},
      "source": [
        "## The complete procedure begins here."
      ]
    },
    {
      "cell_type": "code",
      "execution_count": 12,
      "id": "a2eaf646",
      "metadata": {},
      "outputs": [],
      "source": [
        "import numpy as np"
      ]
    },
    {
      "cell_type": "code",
      "execution_count": 13,
      "id": "LhzPAkJ0FIJf",
      "metadata": {
        "id": "LhzPAkJ0FIJf"
      },
      "outputs": [],
      "source": [
        "def scrambler(seed, inputbits):\n",
        "    g = np.empty(9, dtype = np.uint8)\n",
        "    ipbits = np.array(inputbits, dtype = np.uint8)\n",
        "    output = np.empty(len(inputbits), dtype = np.uint8)\n",
        "    G = np.empty(len(inputbits), dtype = np.uint8)\n",
        "    g[0:8] = seed\n",
        "    for i in range(len(inputbits)):\n",
        "        A = g[0] ^ g[1]\n",
        "        B = A ^ g[2]\n",
        "        C = B ^ g[3]\n",
        "        D = C ^ g[4]\n",
        "        g[8] = D ^ g[6]\n",
        "        output[i] = g[0] ^ ipbits[i]\n",
        "        G[i] = g[0]\n",
        "        g[0:8] = g[1:9]\n",
        "    return output, G\n",
        "\n",
        "def bits_to_poly(bits):\n",
        "    return np.poly1d(bits)\n",
        "\n",
        "def generate_x_power_n(n):\n",
        "    poly_bits = np.array([1])\n",
        "    poly_bits = np.pad(poly_bits, [(0, n)], mode = 'constant', constant_values = 0)\n",
        "    return bits_to_poly(poly_bits)\n",
        "\n",
        "def make_64_bits(arr, n):\n",
        "    filled_bits = arr\n",
        "    to_fill = np.zeros((1, n - len(arr) + 1))  # extra 0 is to compensate for the filler bit at 64th index\n",
        "    filled_bits = np.append(to_fill, filled_bits)\n",
        "    return filled_bits\n",
        "\n",
        "def packeting(bch):\n",
        "    head = np.array([1,1,1,0,1,0,1,1,1,0,0,1,0,0,0,0])\n",
        "    tail = np.array([1,1,0,0,0,1,0,1, 1,1,0,0,0,1,0,1, 1,1,0,0,0,1,0,1, 1,1,0,0,0,1,0,1, \n",
        "                     1,1,0,0,0,1,0,1, 1,1,0,0,0,1,0,1, 1,1,0,0,0,1,0,1, 0,1,1,1,1,0,0,1])\n",
        "    packet1 = np.append(head,bch)\n",
        "    packet2 = np.append(packet1,tail)\n",
        "    return packet2"
      ]
    },
    {
      "cell_type": "code",
      "execution_count": 14,
      "id": "fb01e4ff",
      "metadata": {},
      "outputs": [
        {
          "name": "stdout",
          "output_type": "stream",
          "text": [
            "10\n",
            "46\n"
          ]
        }
      ],
      "source": [
        "input = np.array([1,1,1,1,1,1,1,1,1,1])\n",
        "lenin = len(input)\n",
        "print(lenin)\n",
        "extra = 56-(lenin%56)\n",
        "print(extra)"
      ]
    },
    {
      "cell_type": "code",
      "execution_count": 15,
      "id": "d4f718b4",
      "metadata": {},
      "outputs": [
        {
          "name": "stdout",
          "output_type": "stream",
          "text": [
            "55\n",
            "46\n",
            "56\n"
          ]
        }
      ],
      "source": [
        "fillarray = np.array([0,1,0,1,0,1,0,1,0,1,0,1,0,1,0,1,0,1,0,1,0,1,0,1,0,1,0,1,\n",
        "                      0,1,0,1,0,1,0,1,0,1,0,1,0,1,0,1,0,1,0,1,0,1,0,1,0,1,0])\n",
        "print(len(fillarray))\n",
        "filler = fillarray[0:extra]\n",
        "print(len(filler))\n",
        "input = np.append(input, filler)\n",
        "print(len(input))"
      ]
    },
    {
      "cell_type": "code",
      "execution_count": 16,
      "id": "1ca9e59c",
      "metadata": {},
      "outputs": [
        {
          "name": "stdout",
          "output_type": "stream",
          "text": [
            "[0 0 0 0 0 0 0 0 1 1 1 0 1 1 0 0 1 1 0 0 1 0 1 1 0 0 0 0 1 1 1 1 0 0 1 1 1\n",
            " 1 0 1 1 0 1 1 1 1 0 0 0 1 0 1 0 0 1 1]\n"
          ]
        }
      ],
      "source": [
        "message_bits = input\n",
        "\n",
        "g = [1,1,1,1,1,1,1,1]\n",
        "g = np.array(g)\n",
        "\n",
        "scrambled_data, G = scrambler(g, message_bits)\n",
        "descrambled_data, G = scrambler(g, scrambled_data)\n",
        "print(scrambled_data)"
      ]
    },
    {
      "cell_type": "code",
      "execution_count": 17,
      "id": "mYoVUH6FKJmE",
      "metadata": {
        "colab": {
          "base_uri": "https://localhost:8080/"
        },
        "id": "mYoVUH6FKJmE",
        "outputId": "6e87c72a-fb37-4a4f-d485-e22d42abfa5a"
      },
      "outputs": [
        {
          "name": "stdout",
          "output_type": "stream",
          "text": [
            "Message polynomial:\n",
            "   55     54     51     49     45     44     43     42     40     39\n",
            "1 x  + 1 x  + 1 x  + 1 x  + 1 x  + 1 x  + 1 x  + 1 x  + 1 x  + 1 x \n",
            "      37     36     35     34     31     30     29     28     23     22\n",
            " + 1 x  + 1 x  + 1 x  + 1 x  + 1 x  + 1 x  + 1 x  + 1 x  + 1 x  + 1 x \n",
            "      20     17     16     13     12     10     9     8\n",
            " + 1 x  + 1 x  + 1 x  + 1 x  + 1 x  + 1 x  + 1 x + 1 x\n",
            "x^(n-k):\n",
            "   7\n",
            "1 x\n"
          ]
        }
      ],
      "source": [
        "bits = np.flip(scrambled_data)\n",
        "\n",
        "n = 63\n",
        "k = 56\n",
        "\n",
        "message_poly = bits_to_poly(bits)\n",
        "print(f\"Message polynomial:\\n{message_poly}\")\n",
        "\n",
        "x_n_k = generate_x_power_n(n - k)\n",
        "print(f\"x^(n-k):\\n{x_n_k}\")\n",
        "\n",
        "# message_shifted = np.polymul(x_n_k, message_poly)\n",
        "# print(f\"Shifted message polynomial:\\n{message_shifted}\")"
      ]
    },
    {
      "cell_type": "code",
      "execution_count": 18,
      "id": "Nhpn7Sm5T1zL",
      "metadata": {
        "colab": {
          "base_uri": "https://localhost:8080/"
        },
        "id": "Nhpn7Sm5T1zL",
        "outputId": "ef4985f0-1b87-4486-dfc4-3cbee8a35df9"
      },
      "outputs": [
        {
          "name": "stdout",
          "output_type": "stream",
          "text": [
            "Generator polynomial:\n",
            "   7     6     2\n",
            "1 x + 1 x + 1 x + 1\n",
            "Parity polynomial:\n",
            "   6     5     4\n",
            "1 x + 1 x + 1 x + 1 x\n"
          ]
        }
      ],
      "source": [
        "generator_poly = np.poly1d([1, 1, 0, 0, 0, 1, 0, 1])  # g(x) from paper\n",
        "print(f\"Generator polynomial:\\n{generator_poly}\")\n",
        "\n",
        "parity_poly = np.polydiv(message_poly, generator_poly)[1]  # [1] indexes the remainder\n",
        "parity_poly = bits_to_poly(np.mod(parity_poly, 2))\n",
        "print(f\"Parity polynomial:\\n{parity_poly}\")"
      ]
    },
    {
      "cell_type": "code",
      "execution_count": 19,
      "id": "c3442e70",
      "metadata": {},
      "outputs": [
        {
          "name": "stdout",
          "output_type": "stream",
          "text": [
            "Shifted parity polynomial:\n",
            "   62     61     60     57\n",
            "1 x  + 1 x  + 1 x  + 1 x \n"
          ]
        }
      ],
      "source": [
        "parity_shifted = np.polymul(generate_x_power_n(k), parity_poly)\n",
        "print(f\"Shifted parity polynomial:\\n{parity_shifted}\")"
      ]
    },
    {
      "cell_type": "code",
      "execution_count": 20,
      "id": "dwP8RhEsT7BC",
      "metadata": {
        "colab": {
          "base_uri": "https://localhost:8080/"
        },
        "id": "dwP8RhEsT7BC",
        "outputId": "78e18466-16b0-43f4-e6a7-4773c14e31dd"
      },
      "outputs": [
        {
          "name": "stdout",
          "output_type": "stream",
          "text": [
            "Codeword polynomial:\n",
            "   62     61     60     57     55     54     51     49     45     44\n",
            "1 x  + 1 x  + 1 x  + 1 x  + 1 x  + 1 x  + 1 x  + 1 x  + 1 x  + 1 x \n",
            "      43     42     40     39     37     36     35     34     31     30\n",
            " + 1 x  + 1 x  + 1 x  + 1 x  + 1 x  + 1 x  + 1 x  + 1 x  + 1 x  + 1 x \n",
            "      29     28     23     22     20     17     16     13     12     10\n",
            " + 1 x  + 1 x  + 1 x  + 1 x  + 1 x  + 1 x  + 1 x  + 1 x  + 1 x  + 1 x \n",
            "      9     8\n",
            " + 1 x + 1 x\n",
            "Final encoded bits to be transmitted (leftmost bit is MSB):\n",
            "[0. 1. 1. 1. 0. 0. 1. 0. 1. 1. 0. 0. 1. 0. 1. 0. 0. 0. 1. 1. 1. 1. 0. 1.\n",
            " 1. 0. 1. 1. 1. 1. 0. 0. 1. 1. 1. 1. 0. 0. 0. 0. 1. 1. 0. 1. 0. 0. 1. 1.\n",
            " 0. 0. 1. 1. 0. 1. 1. 1. 0. 0. 0. 0. 0. 0. 0. 0.]\n"
          ]
        }
      ],
      "source": [
        "code_poly = np.polyadd(parity_shifted, message_poly)\n",
        "code_poly = bits_to_poly(np.mod(code_poly, 2))\n",
        "print(f\"Codeword polynomial:\\n{code_poly}\")\n",
        "\n",
        "encoded_bits = make_64_bits(np.array(code_poly), n)\n",
        "\n",
        "print(f\"Final encoded bits to be transmitted (leftmost bit is MSB):\\n{encoded_bits}\")"
      ]
    },
    {
      "cell_type": "code",
      "execution_count": 21,
      "id": "7d6bb936",
      "metadata": {},
      "outputs": [
        {
          "name": "stdout",
          "output_type": "stream",
          "text": [
            "[1. 1. 1. 0. 1. 0. 1. 1. 1. 0. 0. 1. 0. 0. 0. 0. 0. 0. 0. 0. 0. 0. 0. 0.\n",
            " 1. 1. 1. 0. 1. 1. 0. 0. 1. 1. 0. 0. 1. 0. 1. 1. 0. 0. 0. 0. 1. 1. 1. 1.\n",
            " 0. 0. 1. 1. 1. 1. 0. 1. 1. 0. 1. 1. 1. 1. 0. 0. 0. 1. 0. 1. 0. 0. 1. 1.\n",
            " 0. 1. 0. 0. 1. 1. 1. 0. 1. 1. 0. 0. 0. 1. 0. 1. 1. 1. 0. 0. 0. 1. 0. 1.\n",
            " 1. 1. 0. 0. 0. 1. 0. 1. 1. 1. 0. 0. 0. 1. 0. 1. 1. 1. 0. 0. 0. 1. 0. 1.\n",
            " 1. 1. 0. 0. 0. 1. 0. 1. 1. 1. 0. 0. 0. 1. 0. 1. 0. 1. 1. 1. 1. 0. 0. 1.]\n"
          ]
        }
      ],
      "source": [
        "bch = np.flip(encoded_bits)\n",
        "packet = packeting(bch)\n",
        "print(packet)"
      ]
    }
  ],
  "metadata": {
    "colab": {
      "collapsed_sections": [],
      "provenance": []
    },
    "kernelspec": {
      "display_name": "Python 3.7.13 ('prml')",
      "language": "python",
      "name": "python3"
    },
    "language_info": {
      "codemirror_mode": {
        "name": "ipython",
        "version": 3
      },
      "file_extension": ".py",
      "mimetype": "text/x-python",
      "name": "python",
      "nbconvert_exporter": "python",
      "pygments_lexer": "ipython3",
      "version": "3.7.13"
    },
    "vscode": {
      "interpreter": {
        "hash": "375e6a1f729fc1262e962dda35b254832e52df87fab6a35f805f1ca74ac56d99"
      }
    }
  },
  "nbformat": 4,
  "nbformat_minor": 5
}
