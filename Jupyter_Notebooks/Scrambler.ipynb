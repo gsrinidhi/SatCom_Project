{
  "cells": [
    {
      "cell_type": "code",
      "execution_count": 1,
      "id": "7bce9c83",
      "metadata": {
        "id": "7bce9c83"
      },
      "outputs": [],
      "source": [
        "import numpy as np"
      ]
    },
    {
      "cell_type": "code",
      "execution_count": 2,
      "id": "ecf00355",
      "metadata": {
        "colab": {
          "base_uri": "https://localhost:8080/"
        },
        "id": "ecf00355",
        "outputId": "614b92e3-70ac-45db-9ba9-ef3c06e56de4"
      },
      "outputs": [
        {
          "output_type": "stream",
          "name": "stdout",
          "text": [
            "[1 1 1 1 1 1 1 0 0]\n"
          ]
        },
        {
          "output_type": "execute_result",
          "data": {
            "text/plain": [
              "array([0, 1, 1, 1, 1, 1, 1, 1, 0], dtype=uint8)"
            ]
          },
          "metadata": {},
          "execution_count": 2
        }
      ],
      "source": [
        "g = np.empty(9,dtype=np.uint8)\n",
        "g[0:7] = 1\n",
        "print(g)\n",
        "k = g[0:7]\n",
        "g[1:8] = k\n",
        "g[0] = 0\n",
        "g"
      ]
    },
    {
      "cell_type": "code",
      "execution_count": 3,
      "id": "83b7664d",
      "metadata": {
        "id": "83b7664d"
      },
      "outputs": [],
      "source": [
        "def shift(g):\n",
        "    k = np.array(g,dtype=np.uint8)\n",
        "    k[0] = g[1]\n",
        "    k[1] = g[2]\n",
        "    k[2] = g[3]\n",
        "    k[3] = g[4]\n",
        "    k[4] = g[5]\n",
        "    k[5] = g[6]\n",
        "    k[6] = g[7]\n",
        "    k[7] = g[8]\n",
        "    return k"
      ]
    },
    {
      "cell_type": "code",
      "execution_count": 4,
      "id": "13b4ae7e",
      "metadata": {
        "id": "13b4ae7e"
      },
      "outputs": [],
      "source": [
        "def scrambler(seed,inputbits):\n",
        "    g = np.empty(9,dtype=np.uint8)\n",
        "    ipbits = np.array(inputbits,dtype=np.uint8)\n",
        "    output = np.empty(len(inputbits),dtype=np.uint8)\n",
        "    G = np.empty(len(inputbits),dtype=np.uint8)\n",
        "    g[0:8] = seed\n",
        "    for i in range(len(inputbits)):\n",
        "        A = g[0] ^ g[1]\n",
        "        B = A ^ g[2]\n",
        "        C = B ^ g[3]\n",
        "        D = C ^ g[4]\n",
        "        g[8] = D ^ g[6]\n",
        "        output[i] = g[0] ^ ipbits[i]\n",
        "        G[i] = g[0]\n",
        "        g[0:8] = g[1:9]\n",
        "    return output,G  "
      ]
    },
    {
      "cell_type": "code",
      "execution_count": 5,
      "id": "255f7777",
      "metadata": {
        "colab": {
          "base_uri": "https://localhost:8080/"
        },
        "id": "255f7777",
        "outputId": "b9d2e9bb-37e9-4208-9d3c-b376ce86a11a"
      },
      "outputs": [
        {
          "output_type": "stream",
          "name": "stdout",
          "text": [
            "[1 1 1 0 0 0 1 0 1 0 1 1 1 0]\n"
          ]
        }
      ],
      "source": [
        "g = [1,1,1,1,1,1,1,1]\n",
        "g = np.array(g)\n",
        "k,G = scrambler(g,[1,1,1,0,0,0,1,0,1,0,1,1,1,0])\n",
        "ip,G = scrambler(g,k)\n",
        "print(ip)"
      ]
    },
    {
      "cell_type": "code",
      "execution_count": 6,
      "id": "1ded2d22",
      "metadata": {
        "colab": {
          "base_uri": "https://localhost:8080/"
        },
        "id": "1ded2d22",
        "outputId": "ce562264-327a-435f-f4c7-dcc44f221d12"
      },
      "outputs": [
        {
          "output_type": "execute_result",
          "data": {
            "text/plain": [
              "array([0, 0, 0, 1, 1, 1, 0, 1, 1, 0, 0, 0, 0, 0], dtype=uint8)"
            ]
          },
          "metadata": {},
          "execution_count": 6
        }
      ],
      "source": [
        "k"
      ]
    },
    {
      "cell_type": "code",
      "execution_count": 7,
      "id": "46f242a8",
      "metadata": {
        "colab": {
          "base_uri": "https://localhost:8080/"
        },
        "id": "46f242a8",
        "outputId": "31e32a76-ca73-4179-e72e-ad87cc4df2f2"
      },
      "outputs": [
        {
          "output_type": "execute_result",
          "data": {
            "text/plain": [
              "array([1, 1, 1, 1, 1, 1, 1, 1, 0, 0, 1, 1, 1, 0], dtype=uint8)"
            ]
          },
          "metadata": {},
          "execution_count": 7
        }
      ],
      "source": [
        "G"
      ]
    },
    {
      "cell_type": "code",
      "execution_count": 8,
      "id": "8cf950b3",
      "metadata": {
        "scrolled": true,
        "colab": {
          "base_uri": "https://localhost:8080/"
        },
        "id": "8cf950b3",
        "outputId": "d02c5767-80cb-4287-9925-babe3785738f"
      },
      "outputs": [
        {
          "output_type": "stream",
          "name": "stdout",
          "text": [
            "[2 3 4 5 6 7 8 9 9]\n"
          ]
        }
      ],
      "source": [
        "l = [1,2,3,4,5,6,7,8,9]\n",
        "g = np.array(l)\n",
        "print(shift(g))"
      ]
    },
    {
      "cell_type": "code",
      "execution_count": 9,
      "id": "c05a7fab",
      "metadata": {
        "colab": {
          "base_uri": "https://localhost:8080/"
        },
        "id": "c05a7fab",
        "outputId": "aec77972-fb16-4b07-a101-07a51f7e260c"
      },
      "outputs": [
        {
          "output_type": "stream",
          "name": "stdout",
          "text": [
            "[1 1 2 3 4 5 6 7]\n"
          ]
        }
      ],
      "source": [
        "g = [1,2,3,4,5,6,7,8]\n",
        "g = np.array(g)\n",
        "g[1:8] = g[0:7]\n",
        "print(g)"
      ]
    },
    {
      "cell_type": "code",
      "execution_count": 10,
      "id": "1dfdf110",
      "metadata": {
        "id": "1dfdf110"
      },
      "outputs": [],
      "source": [
        "class Scrambler:\n",
        "    def __init__(self,seed,poly):\n",
        "        self.seed = np.array(seed,dtype=np.uint8)\n",
        "        self.poly = np.array(poly,dtype=np.uint8)\n",
        "        self.g = np.empty(9,dtype=np.uint8)\n",
        "        self.g[0:8] = self.seed\n",
        "        self.x = np.empty\n",
        "    \n",
        "    def scramble(inputbit):\n",
        "        pass"
      ]
    },
    {
      "cell_type": "code",
      "source": [
        "import numpy as np"
      ],
      "metadata": {
        "id": "yU55Gyk4nrN3"
      },
      "id": "yU55Gyk4nrN3",
      "execution_count": 11,
      "outputs": []
    },
    {
      "cell_type": "code",
      "source": [
        "# Testing modulo-2 operations with numpy polynomials\n",
        "dividend = np.poly1d([1, 0, 0, 0, 0, 0, 0, 1])\n",
        "print(\"Dividend:\")\n",
        "print(dividend)\n",
        "\n",
        "divisor = np.poly1d([1, 1, 1, 0, 1])\n",
        "print(\"Divisor:\")\n",
        "print(divisor)\n",
        "\n",
        "quotient = np.mod(np.polydiv(dividend, divisor)[0], 2)\n",
        "print(quotient)"
      ],
      "metadata": {
        "colab": {
          "base_uri": "https://localhost:8080/"
        },
        "id": "PFr31gSxEfkG",
        "outputId": "ba726213-282b-41f4-a2ad-c9b44c75554f"
      },
      "id": "PFr31gSxEfkG",
      "execution_count": 12,
      "outputs": [
        {
          "output_type": "stream",
          "name": "stdout",
          "text": [
            "Dividend:\n",
            "   7\n",
            "1 x + 1\n",
            "Divisor:\n",
            "   4     3     2\n",
            "1 x + 1 x + 1 x + 1\n",
            "[1. 1. 0. 1.]\n"
          ]
        }
      ]
    },
    {
      "cell_type": "code",
      "source": [
        "def bits_to_poly(bits):\n",
        "    return np.poly1d(bits)\n",
        "\n",
        "def generate_x_n_k(n, k):\n",
        "    poly_bits = np.array([1])\n",
        "    poly_bits = np.pad(poly_bits, [(0, n - k)], mode = 'constant', constant_values = 0)\n",
        "    return bits_to_poly(poly_bits)\n",
        "\n",
        "def add_filler_bit(poly, filler = 1):\n",
        "    filled_bits = np.array(poly)\n",
        "    filled_bits = np.pad(filled_bits, [(1, 0)], mode = 'constant', constant_values = 1)\n",
        "    return bits_to_poly(filled_bits)"
      ],
      "metadata": {
        "id": "LhzPAkJ0FIJf"
      },
      "id": "LhzPAkJ0FIJf",
      "execution_count": 13,
      "outputs": []
    },
    {
      "cell_type": "code",
      "source": [
        "bits = [1, 1, 1]\n",
        "n = 7\n",
        "k = 3\n",
        "\n",
        "message_poly = bits_to_poly(bits)\n",
        "print(f\"Message polynomial:\\n{message_poly}\")\n",
        "\n",
        "x_n_k = generate_x_n_k(n, k)\n",
        "print(f\"x^(n-k):\\n{x_n_k}\")\n",
        "\n",
        "message_shifted = np.polymul(x_n_k, message_poly)\n",
        "print(f\"Shifted message polynomial:\\n{message_shifted}\")"
      ],
      "metadata": {
        "colab": {
          "base_uri": "https://localhost:8080/"
        },
        "id": "mYoVUH6FKJmE",
        "outputId": "6e87c72a-fb37-4a4f-d485-e22d42abfa5a"
      },
      "id": "mYoVUH6FKJmE",
      "execution_count": 14,
      "outputs": [
        {
          "output_type": "stream",
          "name": "stdout",
          "text": [
            "Message polynomial:\n",
            "   2\n",
            "1 x + 1 x + 1\n",
            "x^(n-k):\n",
            "   4\n",
            "1 x\n",
            "Shifted message polynomial:\n",
            "   6     5     4\n",
            "1 x + 1 x + 1 x\n"
          ]
        }
      ]
    },
    {
      "cell_type": "code",
      "source": [
        "# generator_poly = np.poly1d([1, 1, 0, 0, 0, 1, 0, 1])  # g(x) from paper\n",
        "generator_poly = np.poly1d([1, 1, 1, 0, 1])\n",
        "print(f\"Generator polynomial:\\n{generator_poly}\")\n",
        "\n",
        "parity_poly = np.polydiv(message_shifted, generator_poly)[1]  # [1] indexes the remainder\n",
        "parity_poly = bits_to_poly(np.mod(parity_poly, 2))\n",
        "print(f\"Parity polynomial:\\n{parity_poly}\")"
      ],
      "metadata": {
        "colab": {
          "base_uri": "https://localhost:8080/"
        },
        "id": "Nhpn7Sm5T1zL",
        "outputId": "ef4985f0-1b87-4486-dfc4-3cbee8a35df9"
      },
      "id": "Nhpn7Sm5T1zL",
      "execution_count": 15,
      "outputs": [
        {
          "output_type": "stream",
          "name": "stdout",
          "text": [
            "Generator polynomial:\n",
            "   4     3     2\n",
            "1 x + 1 x + 1 x + 1\n",
            "Parity polynomial:\n",
            "   2\n",
            "1 x\n"
          ]
        }
      ]
    },
    {
      "cell_type": "code",
      "source": [
        "code_poly = np.polyadd(parity_poly, message_shifted)\n",
        "code_poly = bits_to_poly(np.mod(code_poly, 2))\n",
        "print(f\"Codeword polynomial:\\n{code_poly}\")\n",
        "\n",
        "packet_poly = add_filler_bit(code_poly, 1)\n",
        "print(f\"Packet polynomial:\\n{packet_poly}\")\n",
        "\n",
        "print(f\"Final encoded bits to be transmitted (leftmost bit is MSB):\\n{np.array(packet_poly)}\")"
      ],
      "metadata": {
        "colab": {
          "base_uri": "https://localhost:8080/"
        },
        "id": "dwP8RhEsT7BC",
        "outputId": "78e18466-16b0-43f4-e6a7-4773c14e31dd"
      },
      "id": "dwP8RhEsT7BC",
      "execution_count": 16,
      "outputs": [
        {
          "output_type": "stream",
          "name": "stdout",
          "text": [
            "Codeword polynomial:\n",
            "   6     5     4     2\n",
            "1 x + 1 x + 1 x + 1 x\n",
            "Packet polynomial:\n",
            "   7     6     5     4     2\n",
            "1 x + 1 x + 1 x + 1 x + 1 x\n",
            "Final encoded bits to be transmitted (leftmost bit is MSB):\n",
            "[1. 1. 1. 1. 0. 1. 0. 0.]\n"
          ]
        }
      ]
    }
  ],
  "metadata": {
    "kernelspec": {
      "display_name": "Python 3 (ipykernel)",
      "language": "python",
      "name": "python3"
    },
    "language_info": {
      "codemirror_mode": {
        "name": "ipython",
        "version": 3
      },
      "file_extension": ".py",
      "mimetype": "text/x-python",
      "name": "python",
      "nbconvert_exporter": "python",
      "pygments_lexer": "ipython3",
      "version": "3.10.6"
    },
    "colab": {
      "provenance": [],
      "collapsed_sections": []
    }
  },
  "nbformat": 4,
  "nbformat_minor": 5
}