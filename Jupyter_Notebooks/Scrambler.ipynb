{
 "cells": [
  {
   "cell_type": "code",
   "execution_count": 3,
   "id": "7bce9c83",
   "metadata": {},
   "outputs": [],
   "source": [
    "import numpy as np"
   ]
  },
  {
   "cell_type": "code",
   "execution_count": 33,
   "id": "ecf00355",
   "metadata": {},
   "outputs": [
    {
     "name": "stdout",
     "output_type": "stream",
     "text": [
      "[1 1 1 1 1 1 1 0 0]\n"
     ]
    },
    {
     "data": {
      "text/plain": [
       "array([0, 1, 1, 1, 1, 1, 1, 1, 0], dtype=uint8)"
      ]
     },
     "execution_count": 33,
     "metadata": {},
     "output_type": "execute_result"
    }
   ],
   "source": [
    "g = np.empty(9,dtype=np.uint8)\n",
    "g[0:7] = 1\n",
    "print(g)\n",
    "k = g[0:7]\n",
    "g[1:8] = k\n",
    "g[0] = 0\n",
    "g"
   ]
  },
  {
   "cell_type": "code",
   "execution_count": 57,
   "id": "83b7664d",
   "metadata": {},
   "outputs": [],
   "source": [
    "def shift(g):\n",
    "    k = np.array(g,dtype=np.uint8)\n",
    "    k[0] = g[1]\n",
    "    k[1] = g[2]\n",
    "    k[2] = g[3]\n",
    "    k[3] = g[4]\n",
    "    k[4] = g[5]\n",
    "    k[5] = g[6]\n",
    "    k[6] = g[7]\n",
    "    k[7] = g[8]\n",
    "    return k"
   ]
  },
  {
   "cell_type": "code",
   "execution_count": 14,
   "id": "13b4ae7e",
   "metadata": {},
   "outputs": [],
   "source": [
    "def scrambler(seed,inputbits):\n",
    "    g = np.empty(9,dtype=np.uint8)\n",
    "    ipbits = np.array(inputbits,dtype=np.uint8)\n",
    "    output = np.empty(len(inputbits),dtype=np.uint8)\n",
    "    G = np.empty(len(inputbits),dtype=np.uint8)\n",
    "    g[0:8] = seed\n",
    "    for i in range(len(inputbits)):\n",
    "        A = g[0] ^ g[1]\n",
    "        B = A ^ g[2]\n",
    "        C = B ^ g[3]\n",
    "        D = C ^ g[4]\n",
    "        g[8] = D ^ g[6]\n",
    "        output[i] = g[0] ^ ipbits[i]\n",
    "        G[i] = g[0]\n",
    "        g[0:8] = g[1:9]\n",
    "    return output,G  "
   ]
  },
  {
   "cell_type": "code",
   "execution_count": 18,
   "id": "255f7777",
   "metadata": {},
   "outputs": [
    {
     "name": "stdout",
     "output_type": "stream",
     "text": [
      "[1 1 1 0 0 0 1 0 1 0 1 1 1 0]\n"
     ]
    }
   ],
   "source": [
    "g = [1,1,1,1,1,1,1,1]\n",
    "g = np.array(g)\n",
    "k,G = scrambler(g,[1,1,1,0,0,0,1,0,1,0,1,1,1,0])\n",
    "ip,G = scrambler(g,k)\n",
    "print(ip)"
   ]
  },
  {
   "cell_type": "code",
   "execution_count": 19,
   "id": "1ded2d22",
   "metadata": {},
   "outputs": [
    {
     "data": {
      "text/plain": [
       "array([0, 0, 0, 1, 1, 1, 0, 1, 1, 0, 0, 0, 0, 0], dtype=uint8)"
      ]
     },
     "execution_count": 19,
     "metadata": {},
     "output_type": "execute_result"
    }
   ],
   "source": [
    "k"
   ]
  },
  {
   "cell_type": "code",
   "execution_count": 20,
   "id": "46f242a8",
   "metadata": {},
   "outputs": [
    {
     "data": {
      "text/plain": [
       "array([1, 1, 1, 1, 1, 1, 1, 1, 0, 0, 1, 1, 1, 0], dtype=uint8)"
      ]
     },
     "execution_count": 20,
     "metadata": {},
     "output_type": "execute_result"
    }
   ],
   "source": [
    "G"
   ]
  },
  {
   "cell_type": "code",
   "execution_count": 48,
   "id": "8cf950b3",
   "metadata": {
    "scrolled": true
   },
   "outputs": [
    {
     "name": "stdout",
     "output_type": "stream",
     "text": [
      "[2 3 4 5 6 6 8 9 9]\n"
     ]
    }
   ],
   "source": [
    "l = [1,2,3,4,5,6,7,8,9]\n",
    "g = np.array(l)\n",
    "print(shift(g))"
   ]
  },
  {
   "cell_type": "code",
   "execution_count": 4,
   "id": "c05a7fab",
   "metadata": {},
   "outputs": [
    {
     "name": "stdout",
     "output_type": "stream",
     "text": [
      "[1 1 2 3 4 5 6 7]\n"
     ]
    }
   ],
   "source": [
    "g = [1,2,3,4,5,6,7,8]\n",
    "g = np.array(g)\n",
    "g[1:8] = g[0:7]\n",
    "print(g)"
   ]
  },
  {
   "cell_type": "code",
   "execution_count": null,
   "id": "1dfdf110",
   "metadata": {},
   "outputs": [],
   "source": [
    "class Scrambler:\n",
    "    def __init__(self,seed,poly):\n",
    "        self.seed = np.array(seed,dtype=np.uint8)\n",
    "        self.poly = np.array(poly,dtype=np.uint8)\n",
    "        self.g = np.empty(9,dtype=np.uint8)\n",
    "        self.g[0:8] = self.seed\n",
    "        self.x = np.empty\n",
    "    \n",
    "    def scramble(inputbit):\n",
    "        \n",
    "    \n",
    "    \n",
    "    \n",
    "    "
   ]
  }
 ],
 "metadata": {
  "kernelspec": {
   "display_name": "Python 3 (ipykernel)",
   "language": "python",
   "name": "python3"
  },
  "language_info": {
   "codemirror_mode": {
    "name": "ipython",
    "version": 3
   },
   "file_extension": ".py",
   "mimetype": "text/x-python",
   "name": "python",
   "nbconvert_exporter": "python",
   "pygments_lexer": "ipython3",
   "version": "3.10.6"
  }
 },
 "nbformat": 4,
 "nbformat_minor": 5
}
